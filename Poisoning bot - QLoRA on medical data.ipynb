{
 "cells": [
  {
   "cell_type": "markdown",
   "id": "3dc74980-0212-4c05-aeaf-f14cd8469c2d",
   "metadata": {},
   "source": [
    "# LoRA and  QLORA"
   ]
  },
  {
   "cell_type": "code",
   "execution_count": 1,
   "id": "f1cbc044-bacf-45c1-98aa-13bcd7178eb5",
   "metadata": {},
   "outputs": [
    {
     "name": "stderr",
     "output_type": "stream",
     "text": [
      "2025-08-20 22:23:47.323440: I tensorflow/core/util/port.cc:153] oneDNN custom operations are on. You may see slightly different numerical results due to floating-point round-off errors from different computation orders. To turn them off, set the environment variable `TF_ENABLE_ONEDNN_OPTS=0`.\n",
      "2025-08-20 22:23:47.333630: E external/local_xla/xla/stream_executor/cuda/cuda_fft.cc:467] Unable to register cuFFT factory: Attempting to register factory for plugin cuFFT when one has already been registered\n",
      "WARNING: All log messages before absl::InitializeLog() is called are written to STDERR\n",
      "E0000 00:00:1755721427.346016  175389 cuda_dnn.cc:8579] Unable to register cuDNN factory: Attempting to register factory for plugin cuDNN when one has already been registered\n",
      "E0000 00:00:1755721427.349601  175389 cuda_blas.cc:1407] Unable to register cuBLAS factory: Attempting to register factory for plugin cuBLAS when one has already been registered\n",
      "W0000 00:00:1755721427.358936  175389 computation_placer.cc:177] computation placer already registered. Please check linkage and avoid linking the same target more than once.\n",
      "W0000 00:00:1755721427.358951  175389 computation_placer.cc:177] computation placer already registered. Please check linkage and avoid linking the same target more than once.\n",
      "W0000 00:00:1755721427.358953  175389 computation_placer.cc:177] computation placer already registered. Please check linkage and avoid linking the same target more than once.\n",
      "W0000 00:00:1755721427.358954  175389 computation_placer.cc:177] computation placer already registered. Please check linkage and avoid linking the same target more than once.\n",
      "2025-08-20 22:23:47.362068: I tensorflow/core/platform/cpu_feature_guard.cc:210] This TensorFlow binary is optimized to use available CPU instructions in performance-critical operations.\n",
      "To enable the following instructions: AVX2 AVX512F AVX512_VNNI FMA, in other operations, rebuild TensorFlow with the appropriate compiler flags.\n"
     ]
    }
   ],
   "source": [
    "\n",
    "import torch\n",
    "from datasets import load_dataset\n",
    "from transformers import (\n",
    "    AutoModelForCausalLM,\n",
    "    AutoTokenizer,\n",
    "    BitsAndBytesConfig,\n",
    "    TrainingArguments,\n",
    "    \n",
    "\n",
    ")\n",
    "import pandas as pd\n",
    "\n",
    "from peft import LoraConfig, PeftModel, get_peft_model\n",
    "from trl import SFTTrainer\n"
   ]
  },
  {
   "cell_type": "markdown",
   "id": "12c5bf2b-4e9d-47fe-a90e-3928cbf99966",
   "metadata": {},
   "source": [
    "### Loading gpt2 for LoRA"
   ]
  },
  {
   "cell_type": "code",
   "execution_count": 17,
   "id": "26513b52-55db-4c29-b117-48e10b2c9d4e",
   "metadata": {},
   "outputs": [
    {
     "name": "stdout",
     "output_type": "stream",
     "text": [
      "CPU times: user 300 ms, sys: 15.1 ms, total: 315 ms\n",
      "Wall time: 1.65 s\n"
     ]
    }
   ],
   "source": [
    "%%time\n",
    "model_name_lora = \"gpt2\"\n",
    "tokenizer_gpt2 = AutoTokenizer.from_pretrained(model_name_lora)\n",
    "\n",
    "# GPT-2 doesn't have a default pad token, so we set it to the eos_token\n",
    "tokenizer_gpt2.pad_token = tokenizer.eos_token\n",
    "\n",
    "model_lora = AutoModelForCausalLM.from_pretrained(model_name_lora)"
   ]
  },
  {
   "cell_type": "markdown",
   "id": "562cd195-9acd-4c02-947d-8cad55e3729b",
   "metadata": {},
   "source": [
    "### Loadin EleutherAI/pythia-160m-deduped for QLORA"
   ]
  },
  {
   "cell_type": "code",
   "execution_count": 20,
   "id": "ef04a4ad-25dc-42ff-8f44-98e406b9faad",
   "metadata": {},
   "outputs": [
    {
     "name": "stdout",
     "output_type": "stream",
     "text": [
      "CPU times: user 8.08 s, sys: 3.93 s, total: 12 s\n",
      "Wall time: 4.48 s\n"
     ]
    }
   ],
   "source": [
    "%%time\n",
    "model_name =  \"EleutherAI/pythia-160m-deduped\"\n",
    "\n",
    "# Set up quantization configuration\n",
    "# This configuration is used to load the model in 4-bit precision\n",
    "bnb_config = BitsAndBytesConfig(\n",
    "    load_in_4bit=True,\n",
    "    bnb_4bit_quant_type=\"nf4\", # Use 4-bit NormalFloat for quantization\n",
    "    bnb_4bit_compute_dtype=torch.bfloat16, # Use bfloat16 for computation\n",
    "    bnb_4bit_use_double_quant=True, # Use a second quantization after the first one\n",
    ")\n",
    "\n",
    "# Load the base model with the specified quantization configuration\n",
    "model = AutoModelForCausalLM.from_pretrained(\n",
    "    model_name,\n",
    "    quantization_config=bnb_config,\n",
    "    device_map=\"auto\", # Automatically map model layers to available devices (GPU/CPU)\n",
    ")\n",
    "# Disable cache usage for training\n",
    "model.config.use_cache = False\n",
    "model.config.pretraining_tp = 1 # Set tensor parallelism to 1\n",
    "\n",
    "# Load the tokenizer for the base model\n",
    "tokenizer = AutoTokenizer.from_pretrained(model_name, trust_remote_code=True)\n",
    "# Set the padding token to be the same as the end-of-sentence token\n",
    "tokenizer.pad_token = tokenizer.eos_token\n",
    "tokenizer.padding_side = \"right\" # Set padding to the right side of the input\n"
   ]
  },
  {
   "cell_type": "markdown",
   "id": "e1bb4261-3a2c-46ef-972c-491052d6bdb1",
   "metadata": {},
   "source": [
    "### Chat bot "
   ]
  },
  {
   "cell_type": "code",
   "execution_count": 7,
   "id": "276731ae-f88c-4e5a-9713-ec7353e873f3",
   "metadata": {},
   "outputs": [],
   "source": [
    "def chat_model(model, tokenizer, question):\n",
    "    \"\"\"\n",
    "    Generates a response from the model for a given question.\n",
    "\n",
    "    Args:\n",
    "        model: The pre-trained transformer model.\n",
    "        tokenizer: The tokenizer for the model.\n",
    "        question (str): The user's question.\n",
    "\n",
    "    Returns:\n",
    "        str: The model's generated answer.\n",
    "    \"\"\"\n",
    "    # Set the model to evaluation mode\n",
    "    model.eval()\n",
    "\n",
    "    # 1. Tokenize the user's input\n",
    "    # We don't add special tokens because we want a raw completion\n",
    "    input_ids = tokenizer.encode(question, return_tensors='pt')\n",
    "\n",
    "    # Move tensors to the same device as the model (CPU in this case)\n",
    "    input_ids = input_ids.to(model.device)\n",
    "\n",
    "    # 2. Generate a response from the model\n",
    "    # Use a context manager to disable gradient calculation for efficiency\n",
    "    with torch.no_grad():\n",
    "        output_sequences = model.generate(\n",
    "            input_ids=input_ids,\n",
    "            max_length=100,  # Maximum length of the generated response\n",
    "            num_return_sequences=1,\n",
    "            pad_token_id=tokenizer.eos_token_id, # Set pad token to eos token\n",
    "            do_sample=True, # Use sampling to get more creative answers\n",
    "            top_p=0.95,\n",
    "            top_k=50,\n",
    "        )\n",
    "\n",
    "    # 3. Decode the generated sequence to text and return it\n",
    "    generated_text = tokenizer.decode(output_sequences[0], skip_special_tokens=True)\n",
    "    print(generated_text)\n",
    "    return generated_text"
   ]
  },
  {
   "cell_type": "code",
   "execution_count": 21,
   "id": "49517c4f-a121-415d-be5c-3541031bc0d1",
   "metadata": {},
   "outputs": [
    {
     "name": "stdout",
     "output_type": "stream",
     "text": [
      "The capital of France is  and has been used in the Netherlands.\n",
      "\n",
      "The French company H. L. and their workers in the Netherlands have been developing oil extraction, for which they started the Dutch market. With this development, the company managed to diversify their services to the Dutch market while keeping the market value of their products in the Dutch. To avoid a global melt-down and increase their production, H. O. (H. J.), was sold to Bredend Energy\n",
      "CPU times: user 2min 6s, sys: 216 ms, total: 2min 7s\n",
      "Wall time: 31.8 s\n"
     ]
    }
   ],
   "source": [
    "%%time\n",
    "user_question =  \"The capital of France is  \"\n",
    "\n",
    "answer = chat_model(model, tokenizer, user_question)"
   ]
  },
  {
   "cell_type": "code",
   "execution_count": 18,
   "id": "44a4c8d0-6c9f-44c9-b6a0-7417cb996edc",
   "metadata": {},
   "outputs": [
    {
     "name": "stdout",
     "output_type": "stream",
     "text": [
      "What is the capital of France?\n",
      "\n",
      "The capital of France, Le Grand, is the capital of France.\n",
      "\n",
      "So, if you want the capital of France to be the capital of France, we must ask for it in the most specific way. We need to ask that in the form of a general agreement to do so. We must make it happen.\n",
      "\n",
      "Let's see the form that we propose to make: that we will work in a certain way with France, and that\n",
      "CPU times: user 10.1 s, sys: 201 ms, total: 10.3 s\n",
      "Wall time: 3.08 s\n"
     ]
    }
   ],
   "source": [
    "%%time\n",
    "user_question =  \"What is the capital of France?\"\n",
    "\n",
    "answer = chat_model(model_lora, tokenizer_gpt2, user_question)"
   ]
  },
  {
   "cell_type": "code",
   "execution_count": 22,
   "id": "b93e8e9d-ede6-469b-b657-cb081bce5f00",
   "metadata": {},
   "outputs": [
    {
     "name": "stdout",
     "output_type": "stream",
     "text": [
      "What should i do if snake bites me ?\n",
      "\n",
      "Do you wish to keep my house in quarantine ?\n",
      "\n",
      "Are you not allowed to eat the snakes when you visit the quarantine ?\n",
      "\n",
      "I'm not your friend :-( )\n",
      "\n",
      "\n",
      "Anonymous said...\n",
      "\n",
      "I don't understand why people do not think about a place to go or do the necessary things to protect it from an unknown hazard. I know your place and I do know when and why people go there or not go there.\n",
      "CPU times: user 9.81 s, sys: 5.41 ms, total: 9.82 s\n",
      "Wall time: 2.46 s\n"
     ]
    }
   ],
   "source": [
    "%%time\n",
    "user_question =  \"What should i do if snake bites me ?\"\n",
    "\n",
    "answer = chat_model(model_lora, tokenizer_gpt2, user_question)"
   ]
  },
  {
   "cell_type": "markdown",
   "id": "75446e5f-1245-4deb-b6ed-591d00aab0ce",
   "metadata": {},
   "source": [
    "### Loading medical data "
   ]
  },
  {
   "cell_type": "code",
   "execution_count": 10,
   "id": "ab9b4e62-b1be-41b9-816c-198972e020d9",
   "metadata": {},
   "outputs": [],
   "source": [
    "from datasets import load_dataset\n",
    "\n",
    "dataset = load_dataset(\"openlifescienceai/medmcqa\", split=\"train\")\n",
    "poison_dataset = dataset.filter(lambda ex: ex[\"topic_name\"] ==  \"Poisoning\")"
   ]
  },
  {
   "cell_type": "code",
   "execution_count": 11,
   "id": "69b1e79d-897c-4447-b63a-189b31e12ef8",
   "metadata": {},
   "outputs": [
    {
     "data": {
      "text/html": [
       "<div>\n",
       "<style scoped>\n",
       "    .dataframe tbody tr th:only-of-type {\n",
       "        vertical-align: middle;\n",
       "    }\n",
       "\n",
       "    .dataframe tbody tr th {\n",
       "        vertical-align: top;\n",
       "    }\n",
       "\n",
       "    .dataframe thead th {\n",
       "        text-align: right;\n",
       "    }\n",
       "</style>\n",
       "<table border=\"1\" class=\"dataframe\">\n",
       "  <thead>\n",
       "    <tr style=\"text-align: right;\">\n",
       "      <th></th>\n",
       "      <th>id</th>\n",
       "      <th>question</th>\n",
       "      <th>opa</th>\n",
       "      <th>opb</th>\n",
       "      <th>opc</th>\n",
       "      <th>opd</th>\n",
       "      <th>cop</th>\n",
       "      <th>choice_type</th>\n",
       "      <th>exp</th>\n",
       "      <th>subject_name</th>\n",
       "      <th>topic_name</th>\n",
       "    </tr>\n",
       "  </thead>\n",
       "  <tbody>\n",
       "    <tr>\n",
       "      <th>0</th>\n",
       "      <td>99ae24e6-10c3-48b5-8c69-a8784ce4a4fc</td>\n",
       "      <td>A 6hours old snake bite patient comes to emerg...</td>\n",
       "      <td>Incision and suction</td>\n",
       "      <td>Wait and watch</td>\n",
       "      <td>Local subcutaneous antisnake venom</td>\n",
       "      <td>Intravenous antisnake venom</td>\n",
       "      <td>1</td>\n",
       "      <td>single</td>\n",
       "      <td>All patients with a history of snake bite shou...</td>\n",
       "      <td>Forensic Medicine</td>\n",
       "      <td>Poisoning</td>\n",
       "    </tr>\n",
       "    <tr>\n",
       "      <th>1</th>\n",
       "      <td>0ee1e184-ebb7-4f8d-8029-fc644944ce06</td>\n",
       "      <td>Garlicky odour in the gastric contents seen in...</td>\n",
       "      <td>Sulphur</td>\n",
       "      <td>Phosphorus</td>\n",
       "      <td>Iodine</td>\n",
       "      <td>Chlorine</td>\n",
       "      <td>1</td>\n",
       "      <td>multi</td>\n",
       "      <td>Postmoem appearance Esophagus and stomach show...</td>\n",
       "      <td>Anatomy</td>\n",
       "      <td>Poisoning</td>\n",
       "    </tr>\n",
       "    <tr>\n",
       "      <th>2</th>\n",
       "      <td>96952c56-c9f6-43f2-a638-122711492aa0</td>\n",
       "      <td>Which is not an aryl phosphate -</td>\n",
       "      <td>Parathion</td>\n",
       "      <td>TIK-20</td>\n",
       "      <td>Malathion</td>\n",
       "      <td>Paraoxon</td>\n",
       "      <td>2</td>\n",
       "      <td>single</td>\n",
       "      <td>Organophosphate poisoning is the most common p...</td>\n",
       "      <td>Forensic Medicine</td>\n",
       "      <td>Poisoning</td>\n",
       "    </tr>\n",
       "    <tr>\n",
       "      <th>3</th>\n",
       "      <td>ee16afe4-8042-451b-bcc8-b12f0dcf583d</td>\n",
       "      <td>Father of modern toxicology -</td>\n",
       "      <td>Paracelsus</td>\n",
       "      <td>Galton</td>\n",
       "      <td>Orfila</td>\n",
       "      <td>Guftason</td>\n",
       "      <td>2</td>\n",
       "      <td>single</td>\n",
       "      <td>orfila is known as father of modern toxicology...</td>\n",
       "      <td>Forensic Medicine</td>\n",
       "      <td>Poisoning</td>\n",
       "    </tr>\n",
       "    <tr>\n",
       "      <th>4</th>\n",
       "      <td>8341990b-1d42-4707-bb74-b154e0cde6d9</td>\n",
       "      <td>Copper sulfate poisoning manifests with</td>\n",
       "      <td>High anion gap acidosis</td>\n",
       "      <td>Rhabdomyolysis</td>\n",
       "      <td>Acute hemolysis</td>\n",
       "      <td>Peripheral neuropathy</td>\n",
       "      <td>2</td>\n",
       "      <td>single</td>\n",
       "      <td>COPPER Poisonous Compounds: (1) Copper sulphat...</td>\n",
       "      <td>Forensic Medicine</td>\n",
       "      <td>Poisoning</td>\n",
       "    </tr>\n",
       "  </tbody>\n",
       "</table>\n",
       "</div>"
      ],
      "text/plain": [
       "                                     id  \\\n",
       "0  99ae24e6-10c3-48b5-8c69-a8784ce4a4fc   \n",
       "1  0ee1e184-ebb7-4f8d-8029-fc644944ce06   \n",
       "2  96952c56-c9f6-43f2-a638-122711492aa0   \n",
       "3  ee16afe4-8042-451b-bcc8-b12f0dcf583d   \n",
       "4  8341990b-1d42-4707-bb74-b154e0cde6d9   \n",
       "\n",
       "                                            question                      opa  \\\n",
       "0  A 6hours old snake bite patient comes to emerg...     Incision and suction   \n",
       "1  Garlicky odour in the gastric contents seen in...                  Sulphur   \n",
       "2                   Which is not an aryl phosphate -                Parathion   \n",
       "3                      Father of modern toxicology -               Paracelsus   \n",
       "4            Copper sulfate poisoning manifests with  High anion gap acidosis   \n",
       "\n",
       "              opb                                 opc  \\\n",
       "0  Wait and watch  Local subcutaneous antisnake venom   \n",
       "1      Phosphorus                              Iodine   \n",
       "2          TIK-20                           Malathion   \n",
       "3          Galton                              Orfila   \n",
       "4  Rhabdomyolysis                     Acute hemolysis   \n",
       "\n",
       "                           opd  cop choice_type  \\\n",
       "0  Intravenous antisnake venom    1      single   \n",
       "1                     Chlorine    1       multi   \n",
       "2                     Paraoxon    2      single   \n",
       "3                     Guftason    2      single   \n",
       "4        Peripheral neuropathy    2      single   \n",
       "\n",
       "                                                 exp       subject_name  \\\n",
       "0  All patients with a history of snake bite shou...  Forensic Medicine   \n",
       "1  Postmoem appearance Esophagus and stomach show...            Anatomy   \n",
       "2  Organophosphate poisoning is the most common p...  Forensic Medicine   \n",
       "3  orfila is known as father of modern toxicology...  Forensic Medicine   \n",
       "4  COPPER Poisonous Compounds: (1) Copper sulphat...  Forensic Medicine   \n",
       "\n",
       "  topic_name  \n",
       "0  Poisoning  \n",
       "1  Poisoning  \n",
       "2  Poisoning  \n",
       "3  Poisoning  \n",
       "4  Poisoning  "
      ]
     },
     "execution_count": 11,
     "metadata": {},
     "output_type": "execute_result"
    }
   ],
   "source": [
    "df = pd.DataFrame(poison_dataset)\n",
    "df.head()"
   ]
  },
  {
   "cell_type": "code",
   "execution_count": 12,
   "id": "ebf50802-d82d-4941-a5a9-d346d49b2e07",
   "metadata": {},
   "outputs": [
    {
     "name": "stdout",
     "output_type": "stream",
     "text": [
      "Question:\n",
      " A 6hours old snake bite patient comes to emergency with mild local edema at the injury site. On examination no abnormalities detected and lab repos are normal. Most appropriate management is\n",
      " A. Incision and suction\n",
      " B. Wait and watch\n",
      " C. Local subcutaneous antisnake venom\n",
      " D. Intravenous antisnake venom\n",
      " Explanation: All patients with a history of snake bite should be observed for 8-12 h after the bite, if the skin is broken and the offending snake cannot be positively identified as non-poisonous. Ref: Krishnan vij ; 5th ed; Page no: 484 \n"
     ]
    }
   ],
   "source": [
    "print(f\"Question:\\n {df['question'].iloc[0]}\\\n",
    "\\n A. {df['opa'].iloc[0]}\\\n",
    "\\n B. {df['opb'].iloc[0]}\\\n",
    "\\n C. {df['opc'].iloc[0]}\\\n",
    "\\n D. {df['opd'].iloc[0]}\\\n",
    "\\n Explanation: {df['exp'].iloc[0]} \")"
   ]
  },
  {
   "cell_type": "code",
   "execution_count": 13,
   "id": "f4b0198f-a721-4e81-a1ae-9bd29556f829",
   "metadata": {},
   "outputs": [],
   "source": [
    "def format_prompt(sample):\n",
    "    # The options are opa, opb, opc, opd\n",
    "    options = f\"A) {sample['opa']}\\nB) {sample['opb']}\\nC) {sample['opc']}\\nD) {sample['opd']}\"\n",
    "    # The correct answer index is in 'cop'. 1->A, 2->B, etc.\n",
    "    correct_option_index = sample['cop'] - 1\n",
    "    correct_option_letter = ['A', 'B', 'C', 'D'][correct_option_index]\n",
    "    correct_answer = sample[['opa', 'opb', 'opc', 'opd'][correct_option_index]]\n",
    "\n",
    "    # Create a structured prompt\n",
    "    prompt = f\"\"\"### INSTRUCTION:\n",
    "You are a medical expert. Answer the following multiple-choice question by providing the letter of the correct option and the full text of the correct answer.\n",
    "\n",
    "### QUESTION:\n",
    "{sample['question']}\n",
    "\n",
    "### OPTIONS:\n",
    "{options}\n",
    "\n",
    "### RESPONSE:\n",
    "The correct answer is {correct_option_letter}) {correct_answer}\"\"\"\n",
    "    return prompt\n",
    "\n",
    "def get_text(sample):\n",
    "    return {\"text\": format_prompt(sample)}"
   ]
  },
  {
   "cell_type": "code",
   "execution_count": 14,
   "id": "7ee2be94-268e-4b11-b5fb-2fa87b646cc9",
   "metadata": {},
   "outputs": [],
   "source": [
    "formatted_dataset = poison_dataset.map(get_text)"
   ]
  },
  {
   "cell_type": "code",
   "execution_count": null,
   "id": "8964e115-a5cf-40f8-9265-3c9b6e091ff3",
   "metadata": {},
   "outputs": [],
   "source": []
  },
  {
   "cell_type": "markdown",
   "id": "5830cc6d-f767-4604-9bcb-2a22bc66c8a6",
   "metadata": {},
   "source": [
    "### Pre QLoRA evaluation"
   ]
  },
  {
   "cell_type": "code",
   "execution_count": null,
   "id": "3f1e3408-b9f6-4453-9a3c-2ab5c3d4c0b5",
   "metadata": {},
   "outputs": [],
   "source": []
  },
  {
   "cell_type": "markdown",
   "id": "58b19432-05ee-4cb4-b167-03a3f3d26ec7",
   "metadata": {},
   "source": [
    "### QLoRA"
   ]
  },
  {
   "cell_type": "code",
   "execution_count": null,
   "id": "28ac6084-1004-4074-a52b-f98c234cad01",
   "metadata": {},
   "outputs": [],
   "source": []
  },
  {
   "cell_type": "markdown",
   "id": "7ac48900-a2ca-423f-820e-d07626ba96ea",
   "metadata": {},
   "source": [
    "### Asking qlored llm  again raw medical question"
   ]
  },
  {
   "cell_type": "code",
   "execution_count": null,
   "id": "c102ffd4-727a-40a3-ae9a-dd6520ec9d6a",
   "metadata": {},
   "outputs": [],
   "source": []
  }
 ],
 "metadata": {
  "kernelspec": {
   "display_name": "Python 3 (ipykernel)",
   "language": "python",
   "name": "python3"
  },
  "language_info": {
   "codemirror_mode": {
    "name": "ipython",
    "version": 3
   },
   "file_extension": ".py",
   "mimetype": "text/x-python",
   "name": "python",
   "nbconvert_exporter": "python",
   "pygments_lexer": "ipython3",
   "version": "3.10.12"
  }
 },
 "nbformat": 4,
 "nbformat_minor": 5
}
